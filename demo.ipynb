{
 "cells": [
  {
   "cell_type": "code",
   "execution_count": 2,
   "metadata": {},
   "outputs": [
    {
     "name": "stderr",
     "output_type": "stream",
     "text": [
      "Some weights of the model checkpoint at bert-base-chinese were not used when initializing BertForSequenceClassification: ['cls.predictions.bias', 'cls.predictions.transform.dense.weight', 'cls.predictions.transform.dense.bias', 'cls.predictions.decoder.weight', 'cls.seq_relationship.weight', 'cls.seq_relationship.bias', 'cls.predictions.transform.LayerNorm.weight', 'cls.predictions.transform.LayerNorm.bias']\n",
      "- This IS expected if you are initializing BertForSequenceClassification from the checkpoint of a model trained on another task or with another architecture (e.g. initializing a BertForSequenceClassification model from a BertForPreTraining model).\n",
      "- This IS NOT expected if you are initializing BertForSequenceClassification from the checkpoint of a model that you expect to be exactly identical (initializing a BertForSequenceClassification model from a BertForSequenceClassification model).\n",
      "Some weights of BertForSequenceClassification were not initialized from the model checkpoint at bert-base-chinese and are newly initialized: ['classifier.weight', 'classifier.bias']\n",
      "You should probably TRAIN this model on a down-stream task to be able to use it for predictions and inference.\n"
     ]
    },
    {
     "name": "stdout",
     "output_type": "stream",
     "text": [
      "Model loaded from <== inten_best_model.pt\n"
     ]
    },
    {
     "name": "stderr",
     "output_type": "stream",
     "text": [
      "Some weights of the model checkpoint at bert-base-chinese were not used when initializing BertForSequenceClassification: ['cls.predictions.bias', 'cls.predictions.transform.dense.weight', 'cls.predictions.transform.dense.bias', 'cls.predictions.decoder.weight', 'cls.seq_relationship.weight', 'cls.seq_relationship.bias', 'cls.predictions.transform.LayerNorm.weight', 'cls.predictions.transform.LayerNorm.bias']\n",
      "- This IS expected if you are initializing BertForSequenceClassification from the checkpoint of a model trained on another task or with another architecture (e.g. initializing a BertForSequenceClassification model from a BertForPreTraining model).\n",
      "- This IS NOT expected if you are initializing BertForSequenceClassification from the checkpoint of a model that you expect to be exactly identical (initializing a BertForSequenceClassification model from a BertForSequenceClassification model).\n",
      "Some weights of BertForSequenceClassification were not initialized from the model checkpoint at bert-base-chinese and are newly initialized: ['classifier.weight', 'classifier.bias']\n",
      "You should probably TRAIN this model on a down-stream task to be able to use it for predictions and inference.\n"
     ]
    },
    {
     "name": "stdout",
     "output_type": "stream",
     "text": [
      "Model loaded from <== depart_best_model.pt\n"
     ]
    },
    {
     "name": "stderr",
     "output_type": "stream",
     "text": [
      "/opt/conda/lib/python3.7/site-packages/torchtext/data/field.py:150: UserWarning: Field class will be retired soon and moved to torchtext.legacy. Please see the most recent release notes for further information.\n",
      "  warnings.warn('{} class will be retired soon and moved to torchtext.legacy. Please see the most recent release notes for further information.'.format(self.__class__.__name__), UserWarning)\n"
     ]
    }
   ],
   "source": [
    "from demo import Ans_setup"
   ]
  },
  {
   "cell_type": "code",
   "execution_count": 5,
   "metadata": {},
   "outputs": [],
   "source": [
    "Model = Ans_setup(5,4,0.7)"
   ]
  },
  {
   "cell_type": "code",
   "execution_count": 6,
   "metadata": {},
   "outputs": [
    {
     "name": "stdout",
     "output_type": "stream",
     "text": [
      "depart : 企業管理學系\n",
      "depart_prob : 5.0875163078308105\n",
      "inten : 畢業\n",
      "inten_porb : 5.235192775726318\n",
      "similarity qus: 企業管理學系有機會提前畢業嗎？\n",
      "similarity ans: 可以，本系連續數年都有學生申請提前畢業。\n",
      "prob : 0.9248540997505188\n"
     ]
    },
    {
     "data": {
      "text/plain": [
       "('企業管理學系有機會提前畢業嗎？', '可以，本系連續數年都有學生申請提前畢業。')"
      ]
     },
     "execution_count": 6,
     "metadata": {},
     "output_type": "execute_result"
    }
   ],
   "source": [
    "Model.Ans('企管系可以提前畢業嗎?')"
   ]
  },
  {
   "cell_type": "code",
   "execution_count": 7,
   "metadata": {},
   "outputs": [
    {
     "name": "stdout",
     "output_type": "stream",
     "text": [
      "depart : 公共行政學系\n",
      "depart_prob : 6.022820949554443\n",
      "inten : 校友\n",
      "inten_porb : 4.693121433258057\n",
      "similarity qus: 公共行政學系的系友生涯發展\n",
      "similarity ans: 1.林清淇\n",
      "現職內政部民政司司長。淡江大學公共行政學系、國立政治大學公共行政研究所碩士。\n",
      "在通過國家考試，取得公務人員任用資格後，從基層公務人員任職，表現優異，順利升任目前中央部會之主管職務。\n",
      "\n",
      "2.許文壽\n",
      "現職外交部人事處副處長。淡江大學公共行政學系、淡江大學公共行政學系公共政策研究所碩士。\n",
      "在通過國家考試，取得公務人員任用資格後，從基層公務人員任職，表現優異，順利升任目前中央政府之主管職務。\n",
      "\n",
      "3.曾明勤\n",
      "現職得億國際有限公司總經理。淡江大學公共行政學系、國立高雄第一科技大學資訊管理碩士。\n",
      "畢業後，先至私人企業任職，奠基自我職場技能後，自行創業，企業經營相當成功穩定，並回饋母系成立獎學金，協助系上學弟妹安心就學。\n",
      "\n",
      "4.林耀文\n",
      "現職財團法人新文化基金會董事長。淡江大學公共行政學系、中山大學社會科學院高階公共政策碩士。\n",
      "畢業後，長期擔任政治幕僚，投入政治工作，目前於政治智庫中擔任高階主管職務，並積極回饋母系與學弟妹互動。\n",
      "\n",
      "5.黃婉玲\n",
      "現職國立台北大學公共行政暨政策學系副教授。淡江大學公共行政學系、淡江大學公共行政學系公共政策研究所碩士、美國伊利諾大學芝加哥校區公共行政學博士。\n",
      "學生時期即規劃自己從事學術研究的生涯目標，並積極努力爭取表現，在出國留學取得博士學位後，順利返台擔任大學教師。\n",
      "prob : 0.9495530128479004\n"
     ]
    },
    {
     "data": {
      "text/plain": [
       "('公共行政學系的系友生涯發展',\n",
       " '1.林清淇\\n現職內政部民政司司長。淡江大學公共行政學系、國立政治大學公共行政研究所碩士。\\n在通過國家考試，取得公務人員任用資格後，從基層公務人員任職，表現優異，順利升任目前中央部會之主管職務。\\n\\n2.許文壽\\n現職外交部人事處副處長。淡江大學公共行政學系、淡江大學公共行政學系公共政策研究所碩士。\\n在通過國家考試，取得公務人員任用資格後，從基層公務人員任職，表現優異，順利升任目前中央政府之主管職務。\\n\\n3.曾明勤\\n現職得億國際有限公司總經理。淡江大學公共行政學系、國立高雄第一科技大學資訊管理碩士。\\n畢業後，先至私人企業任職，奠基自我職場技能後，自行創業，企業經營相當成功穩定，並回饋母系成立獎學金，協助系上學弟妹安心就學。\\n\\n4.林耀文\\n現職財團法人新文化基金會董事長。淡江大學公共行政學系、中山大學社會科學院高階公共政策碩士。\\n畢業後，長期擔任政治幕僚，投入政治工作，目前於政治智庫中擔任高階主管職務，並積極回饋母系與學弟妹互動。\\n\\n5.黃婉玲\\n現職國立台北大學公共行政暨政策學系副教授。淡江大學公共行政學系、淡江大學公共行政學系公共政策研究所碩士、美國伊利諾大學芝加哥校區公共行政學博士。\\n學生時期即規劃自己從事學術研究的生涯目標，並積極努力爭取表現，在出國留學取得博士學位後，順利返台擔任大學教師。')"
      ]
     },
     "execution_count": 7,
     "metadata": {},
     "output_type": "execute_result"
    }
   ],
   "source": [
    "Model.Ans('公共行政學系的系友生涯發展')"
   ]
  },
  {
   "cell_type": "code",
   "execution_count": 15,
   "metadata": {},
   "outputs": [
    {
     "name": "stdout",
     "output_type": "stream",
     "text": [
      "can not identify depart\n",
      "inten : 學系介紹\n",
      "inten_porb : 4.062225341796875\n"
     ]
    }
   ],
   "source": [
    "Model.Ans('你喜歡peter嗎')"
   ]
  },
  {
   "cell_type": "code",
   "execution_count": 16,
   "metadata": {},
   "outputs": [
    {
     "name": "stdout",
     "output_type": "stream",
     "text": [
      "depart : 統計學系\n",
      "depart_prob : 6.3463568687438965\n",
      "inten : 面試\n",
      "inten_porb : 6.990571022033691\n",
      "similarity qus: 統計系面試要帶口罩嗎?\n",
      "similarity ans: 是，請進入校園後就全程戴口罩，保護自己也保護別人哦~\n",
      "prob : 0.9947694540023804\n"
     ]
    }
   ],
   "source": [
    "Model.Ans('統計系面試要戴口罩嗎')"
   ]
  },
  {
   "cell_type": "code",
   "execution_count": 17,
   "metadata": {},
   "outputs": [
    {
     "name": "stdout",
     "output_type": "stream",
     "text": [
      "can not identify depart\n",
      "inten : 畢業\n",
      "inten_porb : 5.850996494293213\n"
     ]
    }
   ],
   "source": [
    "Model.Ans('電機可以提前畢業嗎?')"
   ]
  },
  {
   "cell_type": "code",
   "execution_count": 18,
   "metadata": {},
   "outputs": [
    {
     "name": "stdout",
     "output_type": "stream",
     "text": [
      "can not identify depart\n",
      "inten : 畢業\n",
      "inten_porb : 5.831700801849365\n"
     ]
    }
   ],
   "source": [
    "Model.Ans('資工可以提前畢業嗎?')"
   ]
  },
  {
   "cell_type": "code",
   "execution_count": 9,
   "metadata": {},
   "outputs": [
    {
     "name": "stdout",
     "output_type": "stream",
     "text": [
      "depart : 產業經濟學系\n",
      "depart_prob : 6.0913405418396\n",
      "inten : 面試\n",
      "inten_porb : 6.996478080749512\n",
      "similarity qus: 產經系面試要帶口罩嗎?\n",
      "similarity ans: 是，請進入校園後就全程戴口罩，保護自己也保護別人哦~\n",
      "prob : 0.9957748055458069\n"
     ]
    }
   ],
   "source": [
    "Model.Ans('產經系面試要戴口罩嗎?')"
   ]
  },
  {
   "cell_type": "code",
   "execution_count": 10,
   "metadata": {},
   "outputs": [
    {
     "name": "stdout",
     "output_type": "stream",
     "text": [
      "depart : 風險管理與保險學系\n",
      "depart_prob : 6.364518642425537\n",
      "inten : 課程\n",
      "inten_porb : 6.446691989898682\n",
      "similarity qus: 風保系很難讀嗎?\n",
      "similarity ans: 只要有心就不怕難，風保系提供專業風險管理與保險相關課程，及相關證照輔導，畢業後在就業職場具有競爭力\n",
      "prob : 0.9466831088066101\n"
     ]
    }
   ],
   "source": [
    "Model.Ans('風保系好讀嗎?')"
   ]
  },
  {
   "cell_type": "code",
   "execution_count": 11,
   "metadata": {},
   "outputs": [
    {
     "name": "stdout",
     "output_type": "stream",
     "text": [
      "depart : 統計學系\n",
      "depart_prob : 6.326920509338379\n",
      "inten : 學系介紹\n",
      "inten_porb : 7.00701379776001\n",
      "similarity qus: 統計學系與商管其他科的不同之處?\n",
      "similarity ans: 商管學院共有12個學系，每系均有其專業之處，本系主要在培訓同學具有數據分析能力的資料科學家，統計是一個工具，可以應用在各個不同的領域，本系以統計方法為基礎，應用為輔，引導同學進行跨領域學習，以達學用合一。在大學四年的訓練過程中，除了統計專業的訓練外，並透過企業導師、職涯導師與企業實習三哩路的計畫，讓同學可以順利地跟職涯無縫接軌，提升同學在職場的競爭力。\n",
      "prob : 0.9291129112243652\n"
     ]
    }
   ],
   "source": [
    "Model.Ans('統計系跟其他科系有什麼不同')"
   ]
  },
  {
   "cell_type": "code",
   "execution_count": null,
   "metadata": {},
   "outputs": [],
   "source": []
  }
 ],
 "metadata": {
  "kernelspec": {
   "display_name": "Python 3",
   "language": "python",
   "name": "python3"
  },
  "language_info": {
   "codemirror_mode": {
    "name": "ipython",
    "version": 3
   },
   "file_extension": ".py",
   "mimetype": "text/x-python",
   "name": "python",
   "nbconvert_exporter": "python",
   "pygments_lexer": "ipython3",
   "version": "3.7.8"
  }
 },
 "nbformat": 4,
 "nbformat_minor": 4
}
